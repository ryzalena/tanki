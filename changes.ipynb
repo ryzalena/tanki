{
 "cells": [
  {
   "cell_type": "markdown",
   "id": "116f5a44",
   "metadata": {},
   "source": [
    "Добавлена возможность никнейма"
   ]
  },
  {
   "cell_type": "raw",
   "id": "ac918aa1",
   "metadata": {
    "vscode": {
     "languageId": "raw"
    }
   },
   "source": [
    "Go:\n",
    "    func reader{ \n",
    "        ...\n",
    "    \n",
    "            switch msg.Action {\n",
    "\t\t\tcase \"setNickname\":\n",
    "\t\t\t\tvar nicknamePayload struct {\n",
    "\t\t\t\t\tNickname string `json:\"nickname\"`\n",
    "\t\t\t\t}\n",
    "\t\t\t\tif err := json.Unmarshal(msg.Payload, &nicknamePayload); err == nil {\n",
    "\t\t\t\t\tp.Nickname = nicknamePayload.Nickname\n",
    "\t\t\t\t\tlog.Printf(\"Игрок %s установил никнейм: %s\", playerID, p.Nickname)\n",
    "\t\t\t\t}\n",
    "\t\t\tcase \"input\":\n",
    "    }"
   ]
  },
  {
   "cell_type": "code",
   "execution_count": null,
   "id": "a92064c2",
   "metadata": {
    "vscode": {
     "languageId": "html"
    }
   },
   "outputs": [],
   "source": [
    "#nicknameModal { \n",
    "    position: fixed; \n",
    "    top: 0; \n",
    "    left: 0; \n",
    "    width: 100%; \n",
    "    height: 100%; \n",
    "    background: rgba(0,0,0,0.8); \n",
    "    display: flex; \n",
    "    justify-content: center; \n",
    "    align-items: center; \n",
    "    z-index: 1000; \n",
    "}\n",
    "#nicknameForm { \n",
    "    background: #333; \n",
    "    padding: 20px; \n",
    "    border-radius: 5px; \n",
    "    text-align: center; \n",
    "}\n",
    "#nicknameInput { \n",
    "    padding: 10px; \n",
    "    margin: 10px 0; \n",
    "    width: 200px; \n",
    "    font-size: 16px; \n",
    "}\n",
    "#nicknameSubmit { \n",
    "    padding: 10px 20px; \n",
    "    background: #555; \n",
    "    color: white; \n",
    "    border: none; \n",
    "    border-radius: 3px; \n",
    "    cursor: pointer; \n",
    "}"
   ]
  },
  {
   "cell_type": "code",
   "execution_count": null,
   "id": "63f6bdab",
   "metadata": {
    "vscode": {
     "languageId": "html"
    }
   },
   "outputs": [],
   "source": [
    "<body>\n",
    "    <div id=\"nicknameModal\">\n",
    "        <div id=\"nicknameForm\">\n",
    "            <h2>Введите ваш никнейм</h2>\n",
    "            <input type=\"text\" id=\"nicknameInput\" maxlength=\"15\" placeholder=\"Мой никнейм\">\n",
    "            <button id=\"nicknameSubmit\">Играть</button>\n",
    "        </div>\n",
    "    </div>\n",
    "</body>\n"
   ]
  },
  {
   "cell_type": "code",
   "execution_count": null,
   "id": "244778da",
   "metadata": {
    "vscode": {
     "languageId": "html"
    }
   },
   "outputs": [],
   "source": [
    "<script>\n",
    "    ...\n",
    "    const nicknameModal = document.getElementById('nicknameModal');\n",
    "    const nicknameInput = document.getElementById('nicknameInput');\n",
    "    const nicknameSubmit = document.getElementById('nicknameSubmit');\n",
    "    ...\n",
    "    let myNickname = '';\n",
    "    ...\n",
    "            // Обработчик отправки никнейма\n",
    "            nicknameSubmit.addEventListener('click', () => {\n",
    "            myNickname = nicknameInput.value.trim();\n",
    "            if (myNickname.length > 0) {\n",
    "                nicknameModal.style.display = 'none';\n",
    "                connectWebSocket();\n",
    "            } else {\n",
    "                alert('Пожалуйста, введите никнейм');\n",
    "            }\n",
    "        });\n",
    "\n",
    "        // Также разрешаем отправку по Enter\n",
    "        nicknameInput.addEventListener('keypress', (e) => {\n",
    "            if (e.key === 'Enter') {\n",
    "                nicknameSubmit.click();\n",
    "            }\n",
    "        });\n",
    "</script>"
   ]
  },
  {
   "cell_type": "code",
   "execution_count": null,
   "id": "7cf004cb",
   "metadata": {
    "vscode": {
     "languageId": "html"
    }
   },
   "outputs": [],
   "source": [
    "function connectWebSocket(){\n",
    "    ...\n",
    "    // Отправляем никнейм серверу сразу после подключения\n",
    "    ws.send(JSON.stringify({ \n",
    "        action: \"setNickname\", \n",
    "        payload: { nickname: myNickname } \n",
    "    }));\n",
    "}\n"
   ]
  },
  {
   "cell_type": "code",
   "execution_count": null,
   "id": "b179a5a9",
   "metadata": {
    "vscode": {
     "languageId": "html"
    }
   },
   "outputs": [],
   "source": [
    "function clientGameLoop {\n",
    "    ...\n",
    "\n",
    " if (p.nickname) {\n",
    "                    ctx.font = '12px Arial';\n",
    "                    ctx.fillStyle = 'white';\n",
    "                    ctx.textAlign = 'center';\n",
    "                    ctx.fillText(p.nickname, p.x, p.y - 25);\n",
    "                }\n",
    "}"
   ]
  },
  {
   "cell_type": "markdown",
   "id": "3a9d48aa",
   "metadata": {},
   "source": [
    "Добавлены жизни"
   ]
  },
  {
   "cell_type": "code",
   "execution_count": null,
   "id": "6afce83f",
   "metadata": {
    "vscode": {
     "languageId": "html"
    }
   },
   "outputs": [],
   "source": [
    "<body>\n",
    "    <div id=\"lives\">Lives: 15</div>\n",
    "</body>"
   ]
  },
  {
   "cell_type": "code",
   "execution_count": null,
   "id": "6dda53b7",
   "metadata": {
    "vscode": {
     "languageId": "html"
    }
   },
   "outputs": [],
   "source": [
    "function handleServerMessage(msg) {\n",
    "    if (myPlayerId && players[myPlayerId]) {\n",
    "        scoreElement.textContent = `Score: ${players[myPlayerId].score}`;\n",
    "        document.getElementById('lives').textContent = `Lives: ${players[myPlayerId].lives}`;\n",
    "    } else {\n",
    "        scoreElement.textContent = `Score: -`;\n",
    "        document.getElementById('lives').textContent = `Lives: -`;\n",
    "    }\n",
    "}"
   ]
  },
  {
   "cell_type": "raw",
   "id": "7007d826",
   "metadata": {
    "vscode": {
     "languageId": "html"
    }
   },
   "source": [
    "Go\n",
    "const (\n",
    "    ...\n",
    "\tInitialLives = 15 // изначальное колво жизней\n",
    ")"
   ]
  },
  {
   "cell_type": "raw",
   "id": "3bf5833a",
   "metadata": {
    "vscode": {
     "languageId": "raw"
    }
   },
   "source": [
    "Go\n",
    "type Player struct {\n",
    "    ...\n",
    "\tLives        int             `json:\"lives\"` // добавлено после для жизни\n",
    "}\n"
   ]
  },
  {
   "cell_type": "raw",
   "id": "084ffba4",
   "metadata": {
    "vscode": {
     "languageId": "raw"
    }
   },
   "source": [
    "Go\n",
    "func handleConnections{\n",
    "    ...\n",
    "    player := &Player{\n",
    "        ...\n",
    "        Lives:        InitialLives, // устанавливаем начальное колво жизней\n",
    "    }\n",
    "}"
   ]
  },
  {
   "cell_type": "raw",
   "id": "ed2674b7",
   "metadata": {
    "vscode": {
     "languageId": "raw"
    }
   },
   "source": [
    "Go\n",
    "func updateGameLogic(dt float64) {\n",
    "    ...\n",
    "    \t\t\tif distSq < radiiSq {\n",
    "\t\t\t\t...\n",
    "\n",
    "\t\t\t\t// Уменьшаем жизни игрока\n",
    "\t\t\t\tplayer.Lives--\n",
    "\t\t\t\tlog.Printf(\"Игрок %s теряет жизнь. Осталось: %d\", playerID, player.Lives)\n",
    "\t\t\t}\n",
    "}\n"
   ]
  },
  {
   "cell_type": "markdown",
   "id": "b8142184",
   "metadata": {},
   "source": [
    "Добавлена обводна текущего игрока"
   ]
  },
  {
   "cell_type": "code",
   "execution_count": null,
   "id": "91fd1ba0",
   "metadata": {
    "vscode": {
     "languageId": "html"
    }
   },
   "outputs": [],
   "source": [
    "        function clientGameLoop(timestamp) {\n",
    "            ...        \n",
    "                if (id === myPlayerId) {\n",
    "                    ctx.save();\n",
    "                    ctx.translate(p.x, p.y);\n",
    "                    ctx.rotate(bodyAngle);\n",
    "                    ctx.strokeStyle = 'white';\n",
    "                    ctx.lineWidth = 2;\n",
    "                    ctx.strokeRect(-bodyWidth/2, -bodyHeight/2, bodyWidth, bodyHeight);\n",
    "                    ctx.restore();\n",
    "                }\n",
    "        }"
   ]
  },
  {
   "cell_type": "markdown",
   "id": "fe711f48",
   "metadata": {},
   "source": [
    "Реализуем поворот пушки отдельно от танка"
   ]
  },
  {
   "cell_type": "raw",
   "id": "faf458b3",
   "metadata": {
    "vscode": {
     "languageId": "raw"
    }
   },
   "source": [
    "Go \n",
    "type Player struct {\n",
    "    ...\n",
    "    BodyAngle    float64         `json:\"bodyAngle\"` // Угол корпуса танка\n",
    "}\n"
   ]
  },
  {
   "cell_type": "raw",
   "id": "33aa6c50",
   "metadata": {
    "vscode": {
     "languageId": "raw"
    }
   },
   "source": [
    "Go \n",
    "func updateGameLogic{\n",
    "    // Обновляем угол корпуса только при движении\n",
    "    if player.Input.Up || player.Input.Down || player.Input.Left || player.Input.Right {\n",
    "        player.BodyAngle = math.Atan2(targetVY, targetVX)\n",
    "    }\n",
    "}"
   ]
  }
 ],
 "metadata": {
  "language_info": {
   "name": "python"
  }
 },
 "nbformat": 4,
 "nbformat_minor": 5
}
